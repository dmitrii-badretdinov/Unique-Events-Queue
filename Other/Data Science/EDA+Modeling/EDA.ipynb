{
 "cells": [
  {
   "cell_type": "code",
   "execution_count": null,
   "id": "d1e028b9",
   "metadata": {},
   "outputs": [],
   "source": [
    "import numpy as np\n",
    "import pandas as pd\n",
    "from pandas_profiling import ProfileReport"
   ]
  },
  {
   "cell_type": "code",
   "execution_count": null,
   "id": "d2825365",
   "metadata": {},
   "outputs": [],
   "source": [
    "pd.set_option('display.max_colwidth', 300)\n",
    "pd.set_option('display.max_columns', 200)"
   ]
  },
  {
   "cell_type": "code",
   "execution_count": null,
   "id": "8d20a5cf",
   "metadata": {},
   "outputs": [],
   "source": [
    "session_df = pd.read_parquet(\"data/sessions\")"
   ]
  },
  {
   "cell_type": "code",
   "execution_count": null,
   "id": "d9454da0",
   "metadata": {},
   "outputs": [],
   "source": [
    "session_sample = session_df.sample(1000) \n",
    "session_sample_profile = ProfileReport(session_sample, config_file=\"eda_minimal.yml\")"
   ]
  },
  {
   "cell_type": "code",
   "execution_count": null,
   "id": "9a79d708",
   "metadata": {},
   "outputs": [],
   "source": [
    "session_df.shape"
   ]
  },
  {
   "cell_type": "code",
   "execution_count": null,
   "id": "72d9ad00",
   "metadata": {},
   "outputs": [],
   "source": [
    "display(session_df)"
   ]
  },
  {
   "cell_type": "code",
   "execution_count": null,
   "id": "02068005",
   "metadata": {},
   "outputs": [],
   "source": [
    "display(session_df['totals'][0])"
   ]
  },
  {
   "cell_type": "code",
   "execution_count": null,
   "id": "4c8eecce",
   "metadata": {},
   "outputs": [],
   "source": [
    "hits_df = pd.read_parquet(\"data/hits\")"
   ]
  },
  {
   "cell_type": "code",
   "execution_count": null,
   "id": "c83359b9",
   "metadata": {},
   "outputs": [],
   "source": [
    "sample_hits_df = hits_df.sample(1000)"
   ]
  },
  {
   "cell_type": "code",
   "execution_count": null,
   "id": "0c150b4d",
   "metadata": {},
   "outputs": [],
   "source": [
    "sample_hits_profile = ProfileReport(sample_hits_df, config_file=\"eda_minimal.yml\")"
   ]
  },
  {
   "cell_type": "code",
   "execution_count": null,
   "id": "f51912fc",
   "metadata": {},
   "outputs": [],
   "source": [
    "sample_hits_profile.to_widgets()"
   ]
  },
  {
   "cell_type": "code",
   "execution_count": null,
   "id": "adb4561d",
   "metadata": {},
   "outputs": [],
   "source": [
    "hits_df.size"
   ]
  },
  {
   "cell_type": "code",
   "execution_count": null,
   "id": "22ff2b34",
   "metadata": {
    "scrolled": true
   },
   "outputs": [],
   "source": [
    "display(hits_df)"
   ]
  },
  {
   "cell_type": "code",
   "execution_count": null,
   "id": "10c9b0a5",
   "metadata": {},
   "outputs": [],
   "source": [
    "hits_df.shape"
   ]
  },
  {
   "cell_type": "code",
   "execution_count": null,
   "id": "94d85bd6",
   "metadata": {},
   "outputs": [],
   "source": []
  }
 ],
 "metadata": {
  "kernelspec": {
   "display_name": "Python 3 (ipykernel)",
   "language": "python",
   "name": "python3"
  },
  "language_info": {
   "codemirror_mode": {
    "name": "ipython",
    "version": 3
   },
   "file_extension": ".py",
   "mimetype": "text/x-python",
   "name": "python",
   "nbconvert_exporter": "python",
   "pygments_lexer": "ipython3",
   "version": "3.10.5"
  }
 },
 "nbformat": 4,
 "nbformat_minor": 5
}
